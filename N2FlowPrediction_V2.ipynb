{
 "cells": [
  {
   "cell_type": "code",
   "execution_count": null,
   "metadata": {
    "scrolled": true
   },
   "outputs": [],
   "source": [
    "import pandas as pd\n",
    "import matplotlib.pyplot as pt\n",
    "import numpy as np\n",
    "import os\n",
    "import seaborn as sns\n",
    "\n",
    "data = pd.read_excel('ETR-259 Findings.xlsm', sheet_name=None, index_col=False)\n",
    "df = pd.concat(data.values(), sort=True, ignore_index=True)\n",
    "\n",
    "len(df)\n",
    "\n",
    "df = df.iloc[1:]\n",
    "\n",
    "df.head(15)\n",
    "\n",
    "#df = df.reset_index(drop=True)"
   ]
  },
  {
   "cell_type": "code",
   "execution_count": null,
   "metadata": {
    "scrolled": true
   },
   "outputs": [],
   "source": [
    "df.columns = df.iloc[9,:]\n",
    "df.head()"
   ]
  },
  {
   "cell_type": "code",
   "execution_count": null,
   "metadata": {
    "scrolled": true
   },
   "outputs": [],
   "source": [
    "average = df[df.values == \"Average\"]\n",
    "std = df[df.values == \"Std Dev\"]\n",
    "dataRef = df[df.values ==\"Data ref\"]\n",
    "\n",
    "average_list = average.index\n",
    "std_list = std.index\n",
    "dataRef_list = dataRef.index\n",
    "\n",
    "df = df.drop(index = average_list)\n",
    "df = df.drop(index = std_list)\n",
    "df = df.drop(index = dataRef_list)\n",
    "\n",
    "df = df.reset_index(drop=True)\n",
    "df.head(15)"
   ]
  },
  {
   "cell_type": "code",
   "execution_count": null,
   "metadata": {
    "scrolled": true
   },
   "outputs": [],
   "source": [
    "df.columns"
   ]
  },
  {
   "cell_type": "code",
   "execution_count": null,
   "metadata": {
    "scrolled": true
   },
   "outputs": [],
   "source": [
    "df[\"DataRef\"] = np.nan\n",
    "for i in range(1,19):\n",
    "    df[\"DataRef\"] = df[\"DataRef\"].fillna(df.iloc[:,i])\n",
    "    \n",
    "df.head(20)"
   ]
  },
  {
   "cell_type": "code",
   "execution_count": null,
   "metadata": {},
   "outputs": [],
   "source": [
    "df = df.iloc[:,18:]\n",
    "df.head()"
   ]
  },
  {
   "cell_type": "code",
   "execution_count": null,
   "metadata": {},
   "outputs": [],
   "source": [
    "df.dropna(axis = 0, inplace=True)"
   ]
  },
  {
   "cell_type": "code",
   "execution_count": null,
   "metadata": {
    "scrolled": true
   },
   "outputs": [],
   "source": [
    "df.head(15)"
   ]
  },
  {
   "cell_type": "code",
   "execution_count": null,
   "metadata": {},
   "outputs": [],
   "source": [
    "df = df.apply(lambda x: pd.to_numeric(x, errors = 'coerce')).dropna();"
   ]
  },
  {
   "cell_type": "code",
   "execution_count": null,
   "metadata": {},
   "outputs": [],
   "source": [
    "df.drop(['Pcyl 1 @ BDC', 'SOI (cyl 1), CA aTDC', 'Pi, (kW)', 'Pf, (kW)',\n",
    "       'Pp, (kW)', 'k1 (0% HEF)',\n",
    "       'k1 (50% HEF)', 'k1 (100% HEF)', 'Mechanical efficiency', 'T, HEF Out (degC)','T, Oil (degC)','Pmax (cyl 1)','DataRef'], axis = 1, inplace=True);"
   ]
  },
  {
   "cell_type": "code",
   "execution_count": null,
   "metadata": {
    "scrolled": true
   },
   "outputs": [],
   "source": [
    "df.columns"
   ]
  },
  {
   "cell_type": "code",
   "execution_count": null,
   "metadata": {
    "scrolled": true
   },
   "outputs": [],
   "source": [
    "df.describe()"
   ]
  },
  {
   "cell_type": "code",
   "execution_count": null,
   "metadata": {
    "scrolled": true
   },
   "outputs": [],
   "source": [
    "import matplotlib.pyplot as plt\n",
    "import seaborn as sns\n",
    "plot = plt.figure(figsize = (18,18))\n",
    "sns.heatmap(df.corr(), annot=True, linewidths=0.5, cmap=\"BrBG\", square=True)"
   ]
  },
  {
   "cell_type": "code",
   "execution_count": null,
   "metadata": {},
   "outputs": [],
   "source": [
    "df.plot.scatter(x = 'N2 MassFlow Coriolis (kg/min)', y = 'HS_TransPower (kW)', figsize = (12,6))"
   ]
  },
  {
   "cell_type": "code",
   "execution_count": null,
   "metadata": {},
   "outputs": [],
   "source": [
    "df[df['P, N2 (bar)'] < 35].plot.scatter(x = 'N2 MassFlow Coriolis (kg/min)', y = 'BSFC_Trans_Coriolis (Wh/kg)', figsize=(12,6))"
   ]
  },
  {
   "cell_type": "markdown",
   "metadata": {},
   "source": [
    "## Graph above shows that the Power output increases with increasing N2 mass flow and that it is linear. So linear model could be used.\n",
    "### Interestingly the flow rate is independent of RPM and N2 pressure"
   ]
  },
  {
   "cell_type": "code",
   "execution_count": null,
   "metadata": {},
   "outputs": [],
   "source": [
    "df.head()"
   ]
  },
  {
   "cell_type": "markdown",
   "metadata": {},
   "source": [
    "## The columns I want to keep\n",
    "* Power\n",
    "* BSFC\n",
    "* N2 pressure\n",
    "* N2 flow\n",
    "* T, HEF\n",
    "* Engine Speed"
   ]
  },
  {
   "cell_type": "code",
   "execution_count": null,
   "metadata": {},
   "outputs": [],
   "source": [
    "df.plot.scatter(x = 'N2 MassFlow Coriolis (kg/min)', y = 'HS_TransPower (kW)', figsize = (12,6))"
   ]
  },
  {
   "cell_type": "code",
   "execution_count": null,
   "metadata": {},
   "outputs": [],
   "source": [
    "df.columns"
   ]
  },
  {
   "cell_type": "code",
   "execution_count": null,
   "metadata": {},
   "outputs": [],
   "source": [
    "df_filtered = df.filter(['P, N2 (bar)', 'BSFC_Trans_Coriolis (Wh/kg)','N2 MassFlow Coriolis (kg/min)','T, HEF Inlet(degC)','Engine speed (rpm)','HS_TransPower (kW)'], axis =1)\n",
    "df_filtered.head()"
   ]
  },
  {
   "cell_type": "code",
   "execution_count": null,
   "metadata": {
    "scrolled": false
   },
   "outputs": [],
   "source": [
    "import matplotlib.pyplot as plt\n",
    "import seaborn as sns\n",
    "plot = plt.figure(figsize = (18,18))\n",
    "sns.heatmap(df_filtered.corr(), annot=True, linewidths=0.5, cmap=\"BrBG\", square=True)"
   ]
  },
  {
   "cell_type": "code",
   "execution_count": null,
   "metadata": {},
   "outputs": [],
   "source": [
    "df_filtered.isnull().sum()"
   ]
  },
  {
   "cell_type": "code",
   "execution_count": null,
   "metadata": {},
   "outputs": [],
   "source": [
    "indices = range(len(df_filtered))\n",
    "train = [indices[i] for i in indices if i%3 !=0]\n",
    "test = [indices[i] for i in indices if i%3 ==0]\n",
    "test_df = df_filtered.iloc[test]\n",
    "train_df =df_filtered.iloc[train]"
   ]
  },
  {
   "cell_type": "code",
   "execution_count": null,
   "metadata": {},
   "outputs": [],
   "source": [
    "train_df.columns"
   ]
  },
  {
   "cell_type": "code",
   "execution_count": null,
   "metadata": {
    "scrolled": true
   },
   "outputs": [],
   "source": [
    "test_df.loc[len(test_df)] = [0 ,0,0,0,0,8] \n",
    "test_df"
   ]
  },
  {
   "cell_type": "code",
   "execution_count": null,
   "metadata": {},
   "outputs": [],
   "source": [
    "from sklearn.linear_model import LinearRegression\n",
    "\n",
    "x_train = train_df.drop([\"N2 MassFlow Coriolis (kg/min)\", \"BSFC_Trans_Coriolis (Wh/kg)\"], axis =1)\n",
    "y_train = train_df[\"N2 MassFlow Coriolis (kg/min)\"]\n",
    "x_test = test_df.drop([\"N2 MassFlow Coriolis (kg/min)\", \"BSFC_Trans_Coriolis (Wh/kg)\"], axis=1)\n",
    "x_train.shape, y_train.shape, x_test.shape"
   ]
  },
  {
   "cell_type": "code",
   "execution_count": null,
   "metadata": {},
   "outputs": [],
   "source": [
    "lr = LinearRegression()\n",
    "lr.fit(x_train, y_train)\n",
    "Y_pred = lr.predict(x_test)\n",
    "\n",
    "difference = 100*(((Y_pred)-test_df[\"N2 MassFlow Coriolis (kg/min)\"])/(Y_pred))\n",
    "\n",
    "predicted_power = pd.DataFrame({\n",
    "        \"HEF Temp. [°C]\": test_df[\"T, HEF Inlet(degC)\"],\n",
    "        \"Engine Speed [RPM]\": test_df[\"Engine speed (rpm)\"],\n",
    "        \"N2 Pressure [barg]\": test_df[\"P, N2 (bar)\"],\n",
    "        #\"BSFC [Wh/kg]\": test_df[\"BSFC_Trans_Coriolis (Wh/kg)\"],\n",
    "        \"Break Power [W]\":test_df[\"HS_TransPower (kW)\"],\n",
    "        \"N2 MassFlow Coriolis (kg/min)\": test_df[\"N2 MassFlow Coriolis (kg/min)\"],\n",
    "        \"N2 MassFlow Coriolis (kg/min)_predicted\":Y_pred,\n",
    "        \"Difference\": difference\n",
    "    })\n",
    "\n",
    "#predicted_power.to_csv('LinearRegression.csv', index=False)\n",
    "#print(\"The maximum percentage difference is:\", difference.max())\n",
    "#print (\"The min percentage difference is:\", difference.min())\n",
    "#predicted_power.to_csv('N2FlowPredicted.csv')\n"
   ]
  },
  {
   "cell_type": "code",
   "execution_count": null,
   "metadata": {},
   "outputs": [],
   "source": [
    "class style:\n",
    "    BOLD = '\\033[1m'\n",
    "    END = '\\033[0m'"
   ]
  },
  {
   "cell_type": "code",
   "execution_count": null,
   "metadata": {},
   "outputs": [],
   "source": [
    "print (style.BOLD + \"The N2 flow rate to achieve 8kw Power output is predicted to be\"+ style.END, predicted_power[\"N2 MassFlow Coriolis (kg/min)_predicted\"].max() )"
   ]
  },
  {
   "cell_type": "code",
   "execution_count": null,
   "metadata": {},
   "outputs": [],
   "source": [
    "print (\"The N2 flow rate to achieve 8kw Power output is predicted to be\", predicted_power[\"N2 MassFlow Coriolis (kg/min)_predicted\"].max())"
   ]
  }
 ],
 "metadata": {
  "kernelspec": {
   "display_name": "Python 3",
   "language": "python",
   "name": "python3"
  },
  "language_info": {
   "codemirror_mode": {
    "name": "ipython",
    "version": 3
   },
   "file_extension": ".py",
   "mimetype": "text/x-python",
   "name": "python",
   "nbconvert_exporter": "python",
   "pygments_lexer": "ipython3",
   "version": "3.6.5"
  }
 },
 "nbformat": 4,
 "nbformat_minor": 2
}
