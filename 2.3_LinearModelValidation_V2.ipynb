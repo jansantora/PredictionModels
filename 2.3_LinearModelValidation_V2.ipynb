{
 "cells": [
  {
   "cell_type": "code",
   "execution_count": 49,
   "metadata": {},
   "outputs": [],
   "source": [
    "#Importing usefull libraries\n",
    "import numpy as np\n",
    "import pandas as pd\n",
    "import matplotlib.pyplot as plt\n",
    "import seaborn as sns"
   ]
  },
  {
   "cell_type": "code",
   "execution_count": 50,
   "metadata": {},
   "outputs": [],
   "source": [
    "#importing algorithms\n",
    "from sklearn.model_selection import train_test_split\n",
    "from sklearn.naive_bayes import GaussianNB\n",
    "from sklearn.metrics import accuracy_score\n",
    "from sklearn.linear_model import LogisticRegression\n",
    "from sklearn.svm import SVC\n",
    "from sklearn.svm import LinearSVC\n",
    "from sklearn.linear_model import Perceptron\n",
    "from sklearn.tree import DecisionTreeRegressor\n",
    "from sklearn.ensemble import RandomForestRegressor\n",
    "from sklearn.neighbors import KNeighborsRegressor\n",
    "from sklearn.linear_model import SGDClassifier\n",
    "from sklearn.ensemble import GradientBoostingRegressor\n",
    "from sklearn.preprocessing import Imputer\n",
    "from xgboost import XGBRegressor\n",
    "from sklearn.neighbors import KNeighborsRegressor\n",
    "\n",
    "%matplotlib inline"
   ]
  },
  {
   "cell_type": "code",
   "execution_count": 51,
   "metadata": {},
   "outputs": [
    {
     "data": {
      "text/html": [
       "<div>\n",
       "<style scoped>\n",
       "    .dataframe tbody tr th:only-of-type {\n",
       "        vertical-align: middle;\n",
       "    }\n",
       "\n",
       "    .dataframe tbody tr th {\n",
       "        vertical-align: top;\n",
       "    }\n",
       "\n",
       "    .dataframe thead th {\n",
       "        text-align: right;\n",
       "    }\n",
       "</style>\n",
       "<table border=\"1\" class=\"dataframe\">\n",
       "  <thead>\n",
       "    <tr style=\"text-align: right;\">\n",
       "      <th></th>\n",
       "      <th>N2 Temp. [°C]</th>\n",
       "      <th>HEF Temp. [°C]</th>\n",
       "      <th>Engine Speed [RPM]</th>\n",
       "      <th>N2 Pressure [barg]</th>\n",
       "      <th>Break Power [W]</th>\n",
       "      <th>BSFC [Wh/kg]</th>\n",
       "      <th>FMEP</th>\n",
       "      <th>Unnamed: 7</th>\n",
       "      <th>Excel range</th>\n",
       "      <th>Unnamed: 9</th>\n",
       "    </tr>\n",
       "  </thead>\n",
       "  <tbody>\n",
       "    <tr>\n",
       "      <th>0</th>\n",
       "      <td>15.0</td>\n",
       "      <td>15.0</td>\n",
       "      <td>800.0</td>\n",
       "      <td>30.0</td>\n",
       "      <td>NaN</td>\n",
       "      <td>NaN</td>\n",
       "      <td>NaN</td>\n",
       "      <td>NaN</td>\n",
       "      <td>H15:H31</td>\n",
       "      <td>H15:H31</td>\n",
       "    </tr>\n",
       "    <tr>\n",
       "      <th>1</th>\n",
       "      <td>15.0</td>\n",
       "      <td>15.0</td>\n",
       "      <td>800.0</td>\n",
       "      <td>37.5</td>\n",
       "      <td>NaN</td>\n",
       "      <td>NaN</td>\n",
       "      <td>NaN</td>\n",
       "      <td>NaN</td>\n",
       "      <td>H32:H48</td>\n",
       "      <td>H32:H48</td>\n",
       "    </tr>\n",
       "    <tr>\n",
       "      <th>2</th>\n",
       "      <td>15.0</td>\n",
       "      <td>15.0</td>\n",
       "      <td>800.0</td>\n",
       "      <td>45.0</td>\n",
       "      <td>NaN</td>\n",
       "      <td>NaN</td>\n",
       "      <td>NaN</td>\n",
       "      <td>NaN</td>\n",
       "      <td>H49:H65</td>\n",
       "      <td>H49:H65</td>\n",
       "    </tr>\n",
       "    <tr>\n",
       "      <th>3</th>\n",
       "      <td>15.0</td>\n",
       "      <td>15.0</td>\n",
       "      <td>900.0</td>\n",
       "      <td>30.0</td>\n",
       "      <td>NaN</td>\n",
       "      <td>NaN</td>\n",
       "      <td>NaN</td>\n",
       "      <td>NaN</td>\n",
       "      <td>H66:H82</td>\n",
       "      <td>H66:H82</td>\n",
       "    </tr>\n",
       "    <tr>\n",
       "      <th>4</th>\n",
       "      <td>15.0</td>\n",
       "      <td>15.0</td>\n",
       "      <td>900.0</td>\n",
       "      <td>37.5</td>\n",
       "      <td>NaN</td>\n",
       "      <td>NaN</td>\n",
       "      <td>NaN</td>\n",
       "      <td>NaN</td>\n",
       "      <td>H83:H99</td>\n",
       "      <td>H83:H99</td>\n",
       "    </tr>\n",
       "  </tbody>\n",
       "</table>\n",
       "</div>"
      ],
      "text/plain": [
       "   N2 Temp. [°C]  HEF Temp. [°C]  Engine Speed [RPM]  N2 Pressure [barg]  \\\n",
       "0           15.0            15.0               800.0                30.0   \n",
       "1           15.0            15.0               800.0                37.5   \n",
       "2           15.0            15.0               800.0                45.0   \n",
       "3           15.0            15.0               900.0                30.0   \n",
       "4           15.0            15.0               900.0                37.5   \n",
       "\n",
       "   Break Power [W]  BSFC [Wh/kg]  FMEP  Unnamed: 7 Excel range Unnamed: 9  \n",
       "0              NaN           NaN   NaN         NaN     H15:H31    H15:H31  \n",
       "1              NaN           NaN   NaN         NaN     H32:H48    H32:H48  \n",
       "2              NaN           NaN   NaN         NaN     H49:H65    H49:H65  \n",
       "3              NaN           NaN   NaN         NaN     H66:H82    H66:H82  \n",
       "4              NaN           NaN   NaN         NaN     H83:H99    H83:H99  "
      ]
     },
     "execution_count": 51,
     "metadata": {},
     "output_type": "execute_result"
    }
   ],
   "source": [
    "#Reading Data\n",
    "data = pd.read_excel('TRU 2 Hardware and Operating Conditions Matrix 2.3 V5.1.xlsx', 'LinearEngineMap', index_col=False)\n",
    "data.head()"
   ]
  },
  {
   "cell_type": "code",
   "execution_count": 52,
   "metadata": {
    "scrolled": true
   },
   "outputs": [
    {
     "data": {
      "text/html": [
       "<div>\n",
       "<style scoped>\n",
       "    .dataframe tbody tr th:only-of-type {\n",
       "        vertical-align: middle;\n",
       "    }\n",
       "\n",
       "    .dataframe tbody tr th {\n",
       "        vertical-align: top;\n",
       "    }\n",
       "\n",
       "    .dataframe thead th {\n",
       "        text-align: right;\n",
       "    }\n",
       "</style>\n",
       "<table border=\"1\" class=\"dataframe\">\n",
       "  <thead>\n",
       "    <tr style=\"text-align: right;\">\n",
       "      <th></th>\n",
       "      <th>N2 Temp. [°C]</th>\n",
       "      <th>HEF Temp. [°C]</th>\n",
       "      <th>Engine Speed [RPM]</th>\n",
       "      <th>N2 Pressure [barg]</th>\n",
       "      <th>Break Power [W]</th>\n",
       "      <th>BSFC [Wh/kg]</th>\n",
       "      <th>FMEP</th>\n",
       "    </tr>\n",
       "  </thead>\n",
       "  <tbody>\n",
       "    <tr>\n",
       "      <th>0</th>\n",
       "      <td>15.0</td>\n",
       "      <td>15.0</td>\n",
       "      <td>800.0</td>\n",
       "      <td>30.0</td>\n",
       "      <td>NaN</td>\n",
       "      <td>NaN</td>\n",
       "      <td>NaN</td>\n",
       "    </tr>\n",
       "    <tr>\n",
       "      <th>1</th>\n",
       "      <td>15.0</td>\n",
       "      <td>15.0</td>\n",
       "      <td>800.0</td>\n",
       "      <td>37.5</td>\n",
       "      <td>NaN</td>\n",
       "      <td>NaN</td>\n",
       "      <td>NaN</td>\n",
       "    </tr>\n",
       "    <tr>\n",
       "      <th>2</th>\n",
       "      <td>15.0</td>\n",
       "      <td>15.0</td>\n",
       "      <td>800.0</td>\n",
       "      <td>45.0</td>\n",
       "      <td>NaN</td>\n",
       "      <td>NaN</td>\n",
       "      <td>NaN</td>\n",
       "    </tr>\n",
       "    <tr>\n",
       "      <th>3</th>\n",
       "      <td>15.0</td>\n",
       "      <td>15.0</td>\n",
       "      <td>900.0</td>\n",
       "      <td>30.0</td>\n",
       "      <td>NaN</td>\n",
       "      <td>NaN</td>\n",
       "      <td>NaN</td>\n",
       "    </tr>\n",
       "    <tr>\n",
       "      <th>4</th>\n",
       "      <td>15.0</td>\n",
       "      <td>15.0</td>\n",
       "      <td>900.0</td>\n",
       "      <td>37.5</td>\n",
       "      <td>NaN</td>\n",
       "      <td>NaN</td>\n",
       "      <td>NaN</td>\n",
       "    </tr>\n",
       "  </tbody>\n",
       "</table>\n",
       "</div>"
      ],
      "text/plain": [
       "   N2 Temp. [°C]  HEF Temp. [°C]  Engine Speed [RPM]  N2 Pressure [barg]  \\\n",
       "0           15.0            15.0               800.0                30.0   \n",
       "1           15.0            15.0               800.0                37.5   \n",
       "2           15.0            15.0               800.0                45.0   \n",
       "3           15.0            15.0               900.0                30.0   \n",
       "4           15.0            15.0               900.0                37.5   \n",
       "\n",
       "   Break Power [W]  BSFC [Wh/kg]  FMEP  \n",
       "0              NaN           NaN   NaN  \n",
       "1              NaN           NaN   NaN  \n",
       "2              NaN           NaN   NaN  \n",
       "3              NaN           NaN   NaN  \n",
       "4              NaN           NaN   NaN  "
      ]
     },
     "execution_count": 52,
     "metadata": {},
     "output_type": "execute_result"
    }
   ],
   "source": [
    "#dropping unusable columns\n",
    "df = data.drop([\"Unnamed: 7\", \"Excel range\",\"Unnamed: 9\"], axis=1)\n",
    "df.head()"
   ]
  },
  {
   "cell_type": "markdown",
   "metadata": {},
   "source": [
    "## I want to drop also the test points which are not within the  nxn  smaller 4D maps\n",
    "* HEF T - 15, N2 T -25 and 35\n",
    "* N2 T - 15, HEF T -25 and 35"
   ]
  },
  {
   "cell_type": "code",
   "execution_count": 53,
   "metadata": {},
   "outputs": [
    {
     "name": "stdout",
     "output_type": "stream",
     "text": [
      "<class 'pandas.core.frame.DataFrame'>\n",
      "Int64Index: 95 entries, 9 to 323\n",
      "Data columns (total 7 columns):\n",
      "N2 Temp. [°C]         95 non-null float64\n",
      "HEF Temp. [°C]        95 non-null float64\n",
      "Engine Speed [RPM]    95 non-null float64\n",
      "N2 Pressure [barg]    95 non-null float64\n",
      "Break Power [W]       95 non-null float64\n",
      "BSFC [Wh/kg]          95 non-null float64\n",
      "FMEP                  95 non-null float64\n",
      "dtypes: float64(7)\n",
      "memory usage: 5.9 KB\n"
     ]
    }
   ],
   "source": [
    "#dropping NaN values\n",
    "df = df.dropna()\n",
    "df.info()"
   ]
  },
  {
   "cell_type": "code",
   "execution_count": 54,
   "metadata": {},
   "outputs": [
    {
     "data": {
      "text/plain": [
       "Index(['N2 Temp. [°C]', 'HEF Temp. [°C]', 'Engine Speed [RPM]',\n",
       "       'N2 Pressure [barg]', 'Break Power [W]', 'BSFC [Wh/kg]', 'FMEP'],\n",
       "      dtype='object')"
      ]
     },
     "execution_count": 54,
     "metadata": {},
     "output_type": "execute_result"
    }
   ],
   "source": [
    "df.columns"
   ]
  },
  {
   "cell_type": "markdown",
   "metadata": {},
   "source": [
    "## df is all the test data"
   ]
  },
  {
   "cell_type": "code",
   "execution_count": 55,
   "metadata": {},
   "outputs": [],
   "source": [
    "df = df[~((df[\"N2 Temp. [°C]\"] == 15.0) & ((df[\"HEF Temp. [°C]\"] == 25.0) | (df[\"HEF Temp. [°C]\"] == 35.0)))]\n",
    "df = df[~((df[\"HEF Temp. [°C]\"] == 15.0) & ((df[\"N2 Temp. [°C]\"] == 25.0) | (df[\"N2 Temp. [°C]\"] == 35.0)))]"
   ]
  },
  {
   "cell_type": "code",
   "execution_count": 70,
   "metadata": {},
   "outputs": [
    {
     "data": {
      "text/plain": [
       "<matplotlib.axes._subplots.AxesSubplot at 0xe031057eb8>"
      ]
     },
     "execution_count": 70,
     "metadata": {},
     "output_type": "execute_result"
    },
    {
     "data": {
      "image/png": "[encoded data removed]",
      "text/plain": [
       "<Figure size 1152x864 with 2 Axes>"
      ]
     },
     "metadata": {},
     "output_type": "display_data"
    }
   ],
   "source": [
    "plot = plt.figure(figsize = (16,12))\n",
    "sns.heatmap(\n",
    "        df.corr(),\n",
    "    annot = True\n",
    ")\n"
   ]
  },
  {
   "cell_type": "markdown",
   "metadata": {},
   "source": [
    "## df2 to df5 is 5 off 3x3 for the linear model validation"
   ]
  },
  {
   "cell_type": "code",
   "execution_count": 57,
   "metadata": {},
   "outputs": [],
   "source": [
    "df2 = df[((df[\"N2 Temp. [°C]\"] == 20.0) & (df[\"HEF Temp. [°C]\"] == 20.0))]\n",
    "df3 = df[((df[\"N2 Temp. [°C]\"] == 40.0) & (df[\"HEF Temp. [°C]\"] == 20.0))]\n",
    "df4 = df[((df[\"N2 Temp. [°C]\"] == 30.0) & (df[\"HEF Temp. [°C]\"] == 30.0))]\n",
    "df5 = df[((df[\"N2 Temp. [°C]\"] == 20.0) & (df[\"HEF Temp. [°C]\"] == 40.0))]\n",
    "df6 = df[((df[\"N2 Temp. [°C]\"] == 40.0) & (df[\"HEF Temp. [°C]\"] == 40.0))]"
   ]
  },
  {
   "cell_type": "code",
   "execution_count": 59,
   "metadata": {},
   "outputs": [],
   "source": [
    "df_short1 = [df2, df3, df4, df5, df6]\n",
    "df_short = pd.concat(df_short1)"
   ]
  },
  {
   "cell_type": "code",
   "execution_count": 71,
   "metadata": {
    "scrolled": false
   },
   "outputs": [
    {
     "data": {
      "text/plain": [
       "<matplotlib.axes._subplots.AxesSubplot at 0xe030a6e0f0>"
      ]
     },
     "execution_count": 71,
     "metadata": {},
     "output_type": "execute_result"
    },
    {
     "data": {
      "image/png": "[encoded data removed]",
      "text/plain": [
       "<Figure size 1152x864 with 2 Axes>"
      ]
     },
     "metadata": {},
     "output_type": "display_data"
    }
   ],
   "source": [
    "plot = plt.figure(figsize = (16,12))\n",
    "sns.heatmap(\n",
    "        df_short.corr(),\n",
    "    annot = True\n",
    ")"
   ]
  },
  {
   "cell_type": "markdown",
   "metadata": {},
   "source": [
    "# Predictions for the first case\n",
    "## First case - getting the 117 tests and predicting on them"
   ]
  },
  {
   "cell_type": "code",
   "execution_count": 61,
   "metadata": {},
   "outputs": [],
   "source": [
    "#randomly splitting data for training ang testing\n",
    "#msk = np.random.rand(len(df)) <=0.7\n",
    "\n",
    "indices = range(len(df))\n",
    "train=[indices[i] for i in indices if i%3 != 0]\n",
    "test=[indices[i] for i in indices if i%3 == 0]\n",
    "test_data = df.iloc[test]\n",
    "train_data = df.iloc[train]"
   ]
  },
  {
   "cell_type": "code",
   "execution_count": 62,
   "metadata": {
    "scrolled": false
   },
   "outputs": [
    {
     "data": {
      "text/plain": [
       "[1,\n",
       " 2,\n",
       " 4,\n",
       " 5,\n",
       " 7,\n",
       " 8,\n",
       " 10,\n",
       " 11,\n",
       " 13,\n",
       " 14,\n",
       " 16,\n",
       " 17,\n",
       " 19,\n",
       " 20,\n",
       " 22,\n",
       " 23,\n",
       " 25,\n",
       " 26,\n",
       " 28,\n",
       " 29,\n",
       " 31,\n",
       " 32,\n",
       " 34,\n",
       " 35,\n",
       " 37,\n",
       " 38,\n",
       " 40,\n",
       " 41,\n",
       " 43,\n",
       " 44,\n",
       " 46,\n",
       " 47,\n",
       " 49,\n",
       " 50,\n",
       " 52,\n",
       " 53,\n",
       " 55,\n",
       " 56,\n",
       " 58,\n",
       " 59,\n",
       " 61,\n",
       " 62,\n",
       " 64,\n",
       " 65,\n",
       " 67,\n",
       " 68,\n",
       " 70,\n",
       " 71,\n",
       " 73,\n",
       " 74,\n",
       " 76]"
      ]
     },
     "execution_count": 62,
     "metadata": {},
     "output_type": "execute_result"
    }
   ],
   "source": [
    "train"
   ]
  },
  {
   "cell_type": "code",
   "execution_count": 63,
   "metadata": {},
   "outputs": [
    {
     "data": {
      "text/html": [
       "<div>\n",
       "<style scoped>\n",
       "    .dataframe tbody tr th:only-of-type {\n",
       "        vertical-align: middle;\n",
       "    }\n",
       "\n",
       "    .dataframe tbody tr th {\n",
       "        vertical-align: top;\n",
       "    }\n",
       "\n",
       "    .dataframe thead th {\n",
       "        text-align: right;\n",
       "    }\n",
       "</style>\n",
       "<table border=\"1\" class=\"dataframe\">\n",
       "  <thead>\n",
       "    <tr style=\"text-align: right;\">\n",
       "      <th></th>\n",
       "      <th>N2 Temp. [°C]</th>\n",
       "      <th>HEF Temp. [°C]</th>\n",
       "      <th>Engine Speed [RPM]</th>\n",
       "      <th>N2 Pressure [barg]</th>\n",
       "      <th>Break Power [W]</th>\n",
       "      <th>BSFC [Wh/kg]</th>\n",
       "      <th>FMEP</th>\n",
       "    </tr>\n",
       "  </thead>\n",
       "  <tbody>\n",
       "    <tr>\n",
       "      <th>9</th>\n",
       "      <td>15.0</td>\n",
       "      <td>20.0</td>\n",
       "      <td>800.0</td>\n",
       "      <td>30.0</td>\n",
       "      <td>3.353333</td>\n",
       "      <td>34.400000</td>\n",
       "      <td>-5.358333</td>\n",
       "    </tr>\n",
       "    <tr>\n",
       "      <th>12</th>\n",
       "      <td>15.0</td>\n",
       "      <td>20.0</td>\n",
       "      <td>900.0</td>\n",
       "      <td>30.0</td>\n",
       "      <td>3.800000</td>\n",
       "      <td>33.625000</td>\n",
       "      <td>-5.390000</td>\n",
       "    </tr>\n",
       "    <tr>\n",
       "      <th>64</th>\n",
       "      <td>20.0</td>\n",
       "      <td>20.0</td>\n",
       "      <td>800.0</td>\n",
       "      <td>37.5</td>\n",
       "      <td>4.280769</td>\n",
       "      <td>35.792308</td>\n",
       "      <td>-6.990769</td>\n",
       "    </tr>\n",
       "    <tr>\n",
       "      <th>67</th>\n",
       "      <td>20.0</td>\n",
       "      <td>20.0</td>\n",
       "      <td>900.0</td>\n",
       "      <td>37.5</td>\n",
       "      <td>4.827143</td>\n",
       "      <td>35.542857</td>\n",
       "      <td>-7.164286</td>\n",
       "    </tr>\n",
       "    <tr>\n",
       "      <th>70</th>\n",
       "      <td>20.0</td>\n",
       "      <td>20.0</td>\n",
       "      <td>1000.0</td>\n",
       "      <td>37.5</td>\n",
       "      <td>5.291429</td>\n",
       "      <td>34.586429</td>\n",
       "      <td>-6.760000</td>\n",
       "    </tr>\n",
       "  </tbody>\n",
       "</table>\n",
       "</div>"
      ],
      "text/plain": [
       "    N2 Temp. [°C]  HEF Temp. [°C]  Engine Speed [RPM]  N2 Pressure [barg]  \\\n",
       "9            15.0            20.0               800.0                30.0   \n",
       "12           15.0            20.0               900.0                30.0   \n",
       "64           20.0            20.0               800.0                37.5   \n",
       "67           20.0            20.0               900.0                37.5   \n",
       "70           20.0            20.0              1000.0                37.5   \n",
       "\n",
       "    Break Power [W]  BSFC [Wh/kg]      FMEP  \n",
       "9          3.353333     34.400000 -5.358333  \n",
       "12         3.800000     33.625000 -5.390000  \n",
       "64         4.280769     35.792308 -6.990769  \n",
       "67         4.827143     35.542857 -7.164286  \n",
       "70         5.291429     34.586429 -6.760000  "
      ]
     },
     "execution_count": 63,
     "metadata": {},
     "output_type": "execute_result"
    }
   ],
   "source": [
    "test_data.head()"
   ]
  },
  {
   "cell_type": "code",
   "execution_count": 64,
   "metadata": {},
   "outputs": [
    {
     "data": {
      "text/plain": [
       "((51, 4), (51,), (26, 4))"
      ]
     },
     "execution_count": 64,
     "metadata": {},
     "output_type": "execute_result"
    }
   ],
   "source": [
    "#asigning new variables for predictions, dropping the variable which I want to predict\n",
    "x_train = train_data.drop([\"Break Power [W]\",\"FMEP\",\"BSFC [Wh/kg]\"], axis = 1)\n",
    "y_train = train_data[\"Break Power [W]\"]\n",
    "x_test = test_data.drop([\"Break Power [W]\",\"FMEP\",\"BSFC [Wh/kg]\"], axis=1)\n",
    "x_train.shape, y_train.shape,x_test.shape"
   ]
  },
  {
   "cell_type": "code",
   "execution_count": 65,
   "metadata": {},
   "outputs": [
    {
     "name": "stdout",
     "output_type": "stream",
     "text": [
      "The maximum percentage difference is: 2.108433775356923\n",
      "The min percentage difference is: -2.7750313733659033\n"
     ]
    }
   ],
   "source": [
    "from sklearn.linear_model import LinearRegression \n",
    "\n",
    "lr = LinearRegression()\n",
    "lr.fit(x_train, y_train)\n",
    "Y_pred = lr.predict(x_test)\n",
    "difference = 100*(((Y_pred)-test_data[\"Break Power [W]\"])/(Y_pred))\n",
    "\n",
    "predicted_power = pd.DataFrame({\n",
    "        \"HEF Temp. [°C]\": test_data[\"HEF Temp. [°C]\"],\n",
    "        \"Engine Speed [RPM]\": test_data[\"Engine Speed [RPM]\"],\n",
    "        \"N2 Pressure [barg]\": test_data[\"N2 Pressure [barg]\"],\n",
    "        \"BSFC [Wh/kg]\": test_data[\"BSFC [Wh/kg]\"],\n",
    "        \"N2 Temp. [°C]\":test_data[\"N2 Temp. [°C]\"],\n",
    "        \"Break Power [W]\":test_data[\"Break Power [W]\"],\n",
    "        \"Break Power [W]_pred\": Y_pred,\n",
    "        \"Difference\": difference\n",
    "    })\n",
    "\n",
    "#predicted_power.to_csv('LinearRegression.csv', index=False)\n",
    "print(\"The maximum percentage difference is:\", difference.max())\n",
    "print (\"The min percentage difference is:\", difference.min())\n",
    "predicted_power.to_csv('Predictions_large.csv')"
   ]
  },
  {
   "cell_type": "markdown",
   "metadata": {},
   "source": [
    "### Second case when we take only the corner and middle 3x3 test"
   ]
  },
  {
   "cell_type": "code",
   "execution_count": 66,
   "metadata": {},
   "outputs": [],
   "source": [
    "#randomly splitting data for training ang testing\n",
    "#msk2 = np.random.rand(len(df_short)) <=0.7\n",
    "\n",
    "indices2 = range(len(df_short))\n",
    "train2=[indices2[i] for i in indices2 if i%3 != 0]\n",
    "test2=[indices2[i] for i in indices2 if i%3 == 0]\n",
    "test_data2 = df_short.iloc[test2]\n",
    "train_data2 = df_short.iloc[train2]"
   ]
  },
  {
   "cell_type": "code",
   "execution_count": 67,
   "metadata": {
    "scrolled": false
   },
   "outputs": [
    {
     "data": {
      "text/plain": [
       "[1,\n",
       " 2,\n",
       " 4,\n",
       " 5,\n",
       " 7,\n",
       " 8,\n",
       " 10,\n",
       " 11,\n",
       " 13,\n",
       " 14,\n",
       " 16,\n",
       " 17,\n",
       " 19,\n",
       " 20,\n",
       " 22,\n",
       " 23,\n",
       " 25,\n",
       " 26,\n",
       " 28,\n",
       " 29,\n",
       " 31,\n",
       " 32,\n",
       " 34,\n",
       " 35,\n",
       " 37,\n",
       " 38,\n",
       " 40,\n",
       " 41,\n",
       " 43,\n",
       " 44]"
      ]
     },
     "execution_count": 67,
     "metadata": {},
     "output_type": "execute_result"
    }
   ],
   "source": [
    "train2"
   ]
  },
  {
   "cell_type": "code",
   "execution_count": 68,
   "metadata": {},
   "outputs": [
    {
     "data": {
      "text/plain": [
       "((30, 4), (30,), (15, 4))"
      ]
     },
     "execution_count": 68,
     "metadata": {},
     "output_type": "execute_result"
    }
   ],
   "source": [
    "#asigning new variables for predictions, dropping the variable which I want to predict\n",
    "x_train2 = train_data2.drop([\"Break Power [W]\",\"FMEP\",\"BSFC [Wh/kg]\"], axis = 1)\n",
    "y_train2 = train_data2[\"Break Power [W]\"]\n",
    "x_test2 = test_data2.drop([\"Break Power [W]\",\"FMEP\",\"BSFC [Wh/kg]\"], axis=1)\n",
    "x_train2.shape, y_train2.shape,x_test2.shape"
   ]
  },
  {
   "cell_type": "code",
   "execution_count": 69,
   "metadata": {},
   "outputs": [
    {
     "name": "stdout",
     "output_type": "stream",
     "text": [
      "The maximum percentage difference is: 5.193794113922288\n",
      "The min percentage difference is: -17.065820027178532\n"
     ]
    }
   ],
   "source": [
    "lr2 = LinearRegression()\n",
    "lr2.fit(x_train2, y_train2)\n",
    "Y_pred2 = lr2.predict(x_test2)\n",
    "difference2 = 100*(((Y_pred2)-test_data2[\"Break Power [W]\"])/(Y_pred2))\n",
    "\n",
    "\n",
    "predicted_power2 = pd.DataFrame({\n",
    "        \"HEF Temp. [°C]\": test_data2[\"HEF Temp. [°C]\"],\n",
    "        \"Engine Speed [RPM]\": test_data2[\"Engine Speed [RPM]\"],\n",
    "        \"N2 Pressure [barg]\": test_data2[\"N2 Pressure [barg]\"],\n",
    "        \"BSFC [Wh/kg]\": test_data2[\"BSFC [Wh/kg]\"],\n",
    "        \"N2 Temp. [°C]\":test_data2[\"N2 Temp. [°C]\"],\n",
    "        \"Break Power [W]\":test_data2[\"Break Power [W]\"],\n",
    "        \"Break Power [W]_pred\": Y_pred2,\n",
    "        \"Difference\": difference2\n",
    "    })\n",
    "\n",
    "#predicted_power.to_csv('LinearRegression.csv', index=False)\n",
    "print(\"The maximum percentage difference is:\", difference2.max())\n",
    "print (\"The min percentage difference is:\", difference2.min())\n",
    "predicted_power2.to_csv('Predictions_small.csv')"
   ]
  },
  {
   "cell_type": "code",
   "execution_count": 72,
   "metadata": {},
   "outputs": [],
   "source": [
    "from sklearn.model_selection import cross_val_score\n",
    "from sklearn.preprocessing import Imputer\n",
    "from sklearn.pipeline import Pipeline"
   ]
  },
  {
   "cell_type": "code",
   "execution_count": 80,
   "metadata": {},
   "outputs": [],
   "source": [
    "score1 = cross_val_score(lr, x_train, y_train).mean()\n",
    "score2 = cross_val_score(lr2, x_train2, y_train2).mean()"
   ]
  },
  {
   "cell_type": "code",
   "execution_count": 81,
   "metadata": {},
   "outputs": [
    {
     "name": "stdout",
     "output_type": "stream",
     "text": [
      "0.9848531152665071\n",
      "0.9876578695654058\n"
     ]
    }
   ],
   "source": [
    "print (score1)\n",
    "print (score2)"
   ]
  }
 ],
 "metadata": {
  "kernelspec": {
   "display_name": "Python 3",
   "language": "python",
   "name": "python3"
  },
  "language_info": {
   "codemirror_mode": {
    "name": "ipython",
    "version": 3
   },
   "file_extension": ".py",
   "mimetype": "text/x-python",
   "name": "python",
   "nbconvert_exporter": "python",
   "pygments_lexer": "ipython3",
   "version": "3.6.5"
  }
 },
 "nbformat": 4,
 "nbformat_minor": 2
}
